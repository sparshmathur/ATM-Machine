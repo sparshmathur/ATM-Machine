{
 "cells": [
  {
   "cell_type": "code",
   "execution_count": 1,
   "id": "801bbed1",
   "metadata": {},
   "outputs": [
    {
     "name": "stdout",
     "output_type": "stream",
     "text": [
      "\n",
      "Welcome to the ATM\n",
      "Please enter your four digit pin: 1234\n",
      "what do you want to do\n",
      " Enter 1 to Widthdraw Cash \n",
      " Enter 2 for Balance Enquiry \n",
      " Enter 3 to Quit\n",
      "Enter the number corresponding to the activity you want to do: 1\n",
      "Enter the amount of money you want to widthdraw: 100\n",
      "100 Dollars successfully widthdrawn your remaining balance is 900 Dollars\n",
      "\n",
      "what do you want to do\n",
      " Enter 1 to Widthdraw Cash \n",
      " Enter 2 for Balance Enquiry \n",
      " Enter 3 to Quit\n",
      "Enter the number corresponding to the activity you want to do: 3\n"
     ]
    }
   ],
   "source": [
    "#This is a python project to replicate ATM MAchine, In this project you can perform basic ATM functionalities like,\n",
    "#Withdrawing cash, Depositing Cash, Check Balance.\n",
    "\n",
    "user = {\n",
    "    'pin': 1234,\n",
    "    'balance':1000\n",
    "}\n",
    "\n",
    "def widthdraw_cash():\n",
    "    while True:\n",
    "        amount = int(input(\"Enter the amount of money you want to widthdraw: \"))\n",
    "        if amount > user['balance']:\n",
    "            print(\"You don't have sufficient balance to make this widthdrawal\")\n",
    "        else:\n",
    "            user['balance'] = user['balance'] - amount\n",
    "            print(f\"{amount} Dollars successfully widthdrawn your remaining balance is {user['balance']} Dollars\")\n",
    "            print('')\n",
    "            return False\n",
    "\n",
    "def balance_enquiry():\n",
    "    print(f\"Total balance {user['balance']} Dollars\")\n",
    "    print('')\n",
    "\n",
    "\n",
    "is_quit = False\n",
    "\n",
    "print('')\n",
    "print(\"Welcome to the ATM\")\n",
    "\n",
    "pin = int(input('Please enter your four digit pin: '))\n",
    "\n",
    "if pin == user['pin']:\n",
    "    while is_quit == False:\n",
    "        print(\"what do you want to do\")\n",
    "        print(\" Enter 1 to Widthdraw Cash \\n Enter 2 for Balance Enquiry \\n Enter 3 to Quit\")\n",
    "\n",
    "        query = int(input(\"Enter the number corresponding to the activity you want to do: \"))\n",
    "\n",
    "        if query == 1:\n",
    "            widthdraw_cash()\n",
    "        elif query == 2:\n",
    "            balance_enquiry()\n",
    "        elif query == 3:\n",
    "            is_quit = True\n",
    "\n",
    "        else:\n",
    "            print(\"Please enter a correct value shown\")\n",
    "else:\n",
    "    print(\"Entered wrong pin\")"
   ]
  },
  {
   "cell_type": "code",
   "execution_count": null,
   "id": "f2bb4434",
   "metadata": {},
   "outputs": [],
   "source": []
  }
 ],
 "metadata": {
  "kernelspec": {
   "display_name": "Python 3 (ipykernel)",
   "language": "python",
   "name": "python3"
  },
  "language_info": {
   "codemirror_mode": {
    "name": "ipython",
    "version": 3
   },
   "file_extension": ".py",
   "mimetype": "text/x-python",
   "name": "python",
   "nbconvert_exporter": "python",
   "pygments_lexer": "ipython3",
   "version": "3.11.4"
  }
 },
 "nbformat": 4,
 "nbformat_minor": 5
}
